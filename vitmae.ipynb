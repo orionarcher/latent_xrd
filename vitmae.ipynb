{
 "cells": [
  {
   "cell_type": "code",
   "execution_count": 1,
   "metadata": {
    "collapsed": true
   },
   "outputs": [
    {
     "name": "stdout",
     "output_type": "stream",
     "text": [
      "number of parameters:  40191300\n"
     ]
    }
   ],
   "source": [
    "from transformers import ViTMAEConfig, ViTMAEModel, ViTMAEForPreTraining\n",
    "%load_ext autoreload\n",
    "\n",
    "\n",
    "# Initializing a ViT MAE vit-mae-base style co`nfiguration\n",
    "configuration = ViTMAEConfig(\n",
    "    image_size=100,\n",
    "    num_channels=1,\n",
    "    hidden_size=480,\n",
    "    intermediate_size=1024,\n",
    "    decoder_intermediate_size=1024,\n",
    "    patch_size=10,\n",
    "    mask_ratio=0,\n",
    ")\n",
    "\n",
    "# Initializing a model (with random weights) from the vit-mae-base style configuration\n",
    "model = ViTMAEForPreTraining(configuration)\n",
    "\n",
    "# Accessing the model configuration\n",
    "configuration = model.config\n",
    "\n",
    "print('number of parameters: ', sum(p.numel() for p in model.parameters()))\n"
   ]
  },
  {
   "cell_type": "code",
   "execution_count": 2,
   "outputs": [
    {
     "name": "stdout",
     "output_type": "stream",
     "text": [
      "Finished batch 0 in epoch 1. Loss: 1.1780\n",
      "Finished batch 5 in epoch 1. Loss: 3.8377\n",
      "Finished batch 10 in epoch 1. Loss: 1.4074\n",
      "Finished batch 15 in epoch 1. Loss: 0.4227\n",
      "Finished batch 20 in epoch 1. Loss: 0.3132\n",
      "Finished batch 25 in epoch 1. Loss: 0.2035\n",
      "Finished batch 30 in epoch 1. Loss: 0.1449\n",
      "Finished batch 35 in epoch 1. Loss: 0.1011\n",
      "Finished batch 40 in epoch 1. Loss: 0.0542\n",
      "Finished batch 45 in epoch 1. Loss: 0.0345\n",
      "Finished batch 50 in epoch 1. Loss: 0.0193\n",
      "Finished batch 55 in epoch 1. Loss: 0.0139\n",
      "Finished batch 60 in epoch 1. Loss: 0.0100\n",
      "Finished batch 65 in epoch 1. Loss: 0.0078\n",
      "Finished batch 70 in epoch 1. Loss: 0.0073\n",
      "Finished batch 75 in epoch 1. Loss: 0.0073\n",
      "Finished batch 80 in epoch 1. Loss: 0.0072\n",
      "Finished batch 85 in epoch 1. Loss: 0.0067\n",
      "Finished batch 90 in epoch 1. Loss: 0.0065\n",
      "Finished batch 95 in epoch 1. Loss: 0.0063\n",
      "Finished batch 100 in epoch 1. Loss: 0.0063\n",
      "Finished batch 105 in epoch 1. Loss: 0.0063\n",
      "Finished batch 110 in epoch 1. Loss: 0.0063\n",
      "Finished batch 115 in epoch 1. Loss: 0.0062\n",
      "Finished batch 120 in epoch 1. Loss: 0.0063\n",
      "Finished batch 125 in epoch 1. Loss: 0.0063\n",
      "Finished batch 130 in epoch 1. Loss: 0.0063\n",
      "Finished batch 135 in epoch 1. Loss: 0.0061\n",
      "Finished batch 140 in epoch 1. Loss: 0.0063\n",
      "Finished batch 145 in epoch 1. Loss: 0.0062\n",
      "Finished batch 150 in epoch 1. Loss: 0.0062\n",
      "Finished batch 155 in epoch 1. Loss: 0.0062\n",
      "Finished batch 160 in epoch 1. Loss: 0.0062\n",
      "Finished batch 165 in epoch 1. Loss: 0.0062\n",
      "Finished batch 170 in epoch 1. Loss: 0.0062\n",
      "Finished batch 175 in epoch 1. Loss: 0.0063\n",
      "Finished batch 180 in epoch 1. Loss: 0.0064\n",
      "Finished batch 185 in epoch 1. Loss: 0.0063\n",
      "Finished batch 190 in epoch 1. Loss: 0.0064\n",
      "Finished batch 195 in epoch 1. Loss: 0.0064\n",
      "Finished batch 200 in epoch 1. Loss: 0.0063\n",
      "Finished batch 205 in epoch 1. Loss: 0.0065\n",
      "Finished batch 210 in epoch 1. Loss: 0.0063\n",
      "Finished batch 215 in epoch 1. Loss: 0.0064\n",
      "Finished batch 220 in epoch 1. Loss: 0.0062\n",
      "Finished batch 225 in epoch 1. Loss: 0.0063\n",
      "Finished batch 230 in epoch 1. Loss: 0.0064\n",
      "Finished batch 235 in epoch 1. Loss: 0.0063\n",
      "Finished batch 240 in epoch 1. Loss: 0.0063\n",
      "Finished batch 245 in epoch 1. Loss: 0.0063\n",
      "Finished batch 250 in epoch 1. Loss: 0.0062\n",
      "Finished batch 255 in epoch 1. Loss: 0.0063\n",
      "Finished batch 260 in epoch 1. Loss: 0.0062\n",
      "Finished batch 265 in epoch 1. Loss: 0.0062\n",
      "Finished batch 270 in epoch 1. Loss: 0.0064\n",
      "Finished batch 275 in epoch 1. Loss: 0.0062\n",
      "Finished batch 280 in epoch 1. Loss: 0.0063\n"
     ]
    },
    {
     "ename": "KeyboardInterrupt",
     "evalue": "",
     "output_type": "error",
     "traceback": [
      "\u001B[0;31m---------------------------------------------------------------------------\u001B[0m",
      "\u001B[0;31mKeyboardInterrupt\u001B[0m                         Traceback (most recent call last)",
      "Cell \u001B[0;32mIn[2], line 32\u001B[0m\n\u001B[1;32m     29\u001B[0m \u001B[38;5;66;03m# Train the model\u001B[39;00m\n\u001B[1;32m     31\u001B[0m model\u001B[38;5;241m.\u001B[39mtrain(\u001B[38;5;28;01mTrue\u001B[39;00m)\n\u001B[0;32m---> 32\u001B[0m \u001B[43mtrain_model\u001B[49m\u001B[43m(\u001B[49m\u001B[43mnum_epochs\u001B[49m\u001B[38;5;241;43m=\u001B[39;49m\u001B[38;5;241;43m1\u001B[39;49m\u001B[43m)\u001B[49m\n\u001B[1;32m     33\u001B[0m model\u001B[38;5;241m.\u001B[39mtrain(\u001B[38;5;28;01mFalse\u001B[39;00m)\n",
      "Cell \u001B[0;32mIn[2], line 17\u001B[0m, in \u001B[0;36mtrain_model\u001B[0;34m(num_epochs)\u001B[0m\n\u001B[1;32m     15\u001B[0m \u001B[38;5;66;03m# ===================backward====================\u001B[39;00m\n\u001B[1;32m     16\u001B[0m optimizer\u001B[38;5;241m.\u001B[39mzero_grad()\n\u001B[0;32m---> 17\u001B[0m \u001B[43mloss\u001B[49m\u001B[38;5;241;43m.\u001B[39;49m\u001B[43mbackward\u001B[49m\u001B[43m(\u001B[49m\u001B[43m)\u001B[49m\n\u001B[1;32m     18\u001B[0m optimizer\u001B[38;5;241m.\u001B[39mstep()\n\u001B[1;32m     21\u001B[0m \u001B[38;5;28;01mif\u001B[39;00m idx \u001B[38;5;241m%\u001B[39m \u001B[38;5;241m5\u001B[39m \u001B[38;5;241m==\u001B[39m \u001B[38;5;241m0\u001B[39m:\n",
      "File \u001B[0;32m~/miniconda3/envs/latent_xrd/lib/python3.9/site-packages/torch/_tensor.py:396\u001B[0m, in \u001B[0;36mTensor.backward\u001B[0;34m(self, gradient, retain_graph, create_graph, inputs)\u001B[0m\n\u001B[1;32m    387\u001B[0m \u001B[38;5;28;01mif\u001B[39;00m has_torch_function_unary(\u001B[38;5;28mself\u001B[39m):\n\u001B[1;32m    388\u001B[0m     \u001B[38;5;28;01mreturn\u001B[39;00m handle_torch_function(\n\u001B[1;32m    389\u001B[0m         Tensor\u001B[38;5;241m.\u001B[39mbackward,\n\u001B[1;32m    390\u001B[0m         (\u001B[38;5;28mself\u001B[39m,),\n\u001B[0;32m   (...)\u001B[0m\n\u001B[1;32m    394\u001B[0m         create_graph\u001B[38;5;241m=\u001B[39mcreate_graph,\n\u001B[1;32m    395\u001B[0m         inputs\u001B[38;5;241m=\u001B[39minputs)\n\u001B[0;32m--> 396\u001B[0m \u001B[43mtorch\u001B[49m\u001B[38;5;241;43m.\u001B[39;49m\u001B[43mautograd\u001B[49m\u001B[38;5;241;43m.\u001B[39;49m\u001B[43mbackward\u001B[49m\u001B[43m(\u001B[49m\u001B[38;5;28;43mself\u001B[39;49m\u001B[43m,\u001B[49m\u001B[43m \u001B[49m\u001B[43mgradient\u001B[49m\u001B[43m,\u001B[49m\u001B[43m \u001B[49m\u001B[43mretain_graph\u001B[49m\u001B[43m,\u001B[49m\u001B[43m \u001B[49m\u001B[43mcreate_graph\u001B[49m\u001B[43m,\u001B[49m\u001B[43m \u001B[49m\u001B[43minputs\u001B[49m\u001B[38;5;241;43m=\u001B[39;49m\u001B[43minputs\u001B[49m\u001B[43m)\u001B[49m\n",
      "File \u001B[0;32m~/miniconda3/envs/latent_xrd/lib/python3.9/site-packages/torch/autograd/__init__.py:173\u001B[0m, in \u001B[0;36mbackward\u001B[0;34m(tensors, grad_tensors, retain_graph, create_graph, grad_variables, inputs)\u001B[0m\n\u001B[1;32m    168\u001B[0m     retain_graph \u001B[38;5;241m=\u001B[39m create_graph\n\u001B[1;32m    170\u001B[0m \u001B[38;5;66;03m# The reason we repeat same the comment below is that\u001B[39;00m\n\u001B[1;32m    171\u001B[0m \u001B[38;5;66;03m# some Python versions print out the first line of a multi-line function\u001B[39;00m\n\u001B[1;32m    172\u001B[0m \u001B[38;5;66;03m# calls in the traceback and some print out the last line\u001B[39;00m\n\u001B[0;32m--> 173\u001B[0m \u001B[43mVariable\u001B[49m\u001B[38;5;241;43m.\u001B[39;49m\u001B[43m_execution_engine\u001B[49m\u001B[38;5;241;43m.\u001B[39;49m\u001B[43mrun_backward\u001B[49m\u001B[43m(\u001B[49m\u001B[43m  \u001B[49m\u001B[38;5;66;43;03m# Calls into the C++ engine to run the backward pass\u001B[39;49;00m\n\u001B[1;32m    174\u001B[0m \u001B[43m    \u001B[49m\u001B[43mtensors\u001B[49m\u001B[43m,\u001B[49m\u001B[43m \u001B[49m\u001B[43mgrad_tensors_\u001B[49m\u001B[43m,\u001B[49m\u001B[43m \u001B[49m\u001B[43mretain_graph\u001B[49m\u001B[43m,\u001B[49m\u001B[43m \u001B[49m\u001B[43mcreate_graph\u001B[49m\u001B[43m,\u001B[49m\u001B[43m \u001B[49m\u001B[43minputs\u001B[49m\u001B[43m,\u001B[49m\n\u001B[1;32m    175\u001B[0m \u001B[43m    \u001B[49m\u001B[43mallow_unreachable\u001B[49m\u001B[38;5;241;43m=\u001B[39;49m\u001B[38;5;28;43;01mTrue\u001B[39;49;00m\u001B[43m,\u001B[49m\u001B[43m \u001B[49m\u001B[43maccumulate_grad\u001B[49m\u001B[38;5;241;43m=\u001B[39;49m\u001B[38;5;28;43;01mTrue\u001B[39;49;00m\u001B[43m)\u001B[49m\n",
      "\u001B[0;31mKeyboardInterrupt\u001B[0m: "
     ]
    }
   ],
   "source": [
    "from dataloader import BATCH_SIZE, square_xrd_dataloader, square_binary_dataloader\n",
    "\n",
    "import torch\n",
    "from torch import nn, optim\n",
    "mse_loss = nn.MSELoss()\n",
    "\n",
    "def train_model(num_epochs=100):\n",
    "    outputs = []\n",
    "    optimizer = optim.Adam(model.parameters(), lr=0.01, weight_decay=1e-5)\n",
    "    for epoch in range(num_epochs):\n",
    "        for idx, data in enumerate(square_binary_dataloader):\n",
    "            # ===================forward=====================\n",
    "            output = model(data)\n",
    "            loss = mse_loss(output.logits, data.squeeze())\n",
    "            # ===================backward====================\n",
    "            optimizer.zero_grad()\n",
    "            loss.backward()\n",
    "            optimizer.step()\n",
    "\n",
    "\n",
    "            if idx % 5 == 0:\n",
    "                print(f\"Finished batch {idx} in epoch {epoch + 1}. Loss: {loss.item():.4f}\")\n",
    "\n",
    "        print('epoch [{}/{}], loss:{:.4f}'.format(epoch + 1, num_epochs, loss.item()))\n",
    "        outputs.append((epoch, data, output))\n",
    "\n",
    "\n",
    "\n",
    "# Train the model\n",
    "\n",
    "model.train(True)\n",
    "train_model(num_epochs=1)\n",
    "model.train(False)"
   ],
   "metadata": {
    "collapsed": false
   }
  },
  {
   "cell_type": "code",
   "execution_count": 13,
   "outputs": [],
   "source": [
    "# this is a demo for testing\n",
    "\n",
    "from transformers import AutoFeatureExtractor, ViTMAEForPreTraining\n",
    "from PIL import Image\n",
    "import requests\n",
    "\n",
    "url = \"http://images.cocodataset.org/val2017/000000039769.jpg\"\n",
    "image = Image.open(requests.get(url, stream=True).raw)\n",
    "\n",
    "feature_extractor = AutoFeatureExtractor.from_pretrained(\"facebook/vit-mae-base\")\n",
    "model_pretrained = ViTMAEForPreTraining.from_pretrained(\"facebook/vit-mae-base\")\n",
    "\n",
    "inputs = feature_extractor(images=image, return_tensors=\"pt\")\n",
    "outputs = model_pretrained(**inputs)\n",
    "loss = outputs.loss\n",
    "mask = outputs.mask\n",
    "ids_restore = outputs.ids_restore\n",
    "\n",
    "inputs['pixel_values'].type()"
   ],
   "metadata": {
    "collapsed": false
   }
  }
 ],
 "metadata": {
  "kernelspec": {
   "display_name": "Python 3",
   "language": "python",
   "name": "python3"
  },
  "language_info": {
   "codemirror_mode": {
    "name": "ipython",
    "version": 2
   },
   "file_extension": ".py",
   "mimetype": "text/x-python",
   "name": "python",
   "nbconvert_exporter": "python",
   "pygments_lexer": "ipython2",
   "version": "2.7.6"
  }
 },
 "nbformat": 4,
 "nbformat_minor": 0
}
